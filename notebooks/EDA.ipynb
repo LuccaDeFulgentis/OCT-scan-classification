{
 "cells": [
  {
   "cell_type": "code",
   "execution_count": null,
   "id": "077d1014",
   "metadata": {},
   "outputs": [],
   "source": [
    "# Imports and File Paths \n",
    "\n",
    "# Import Files\n",
    "import os\n",
    "import matplotlib.pyplot as plt\n",
    "from PIL import Image\n",
    "import numpy as np\n",
    "\n",
    "# Paths to folders\n",
    "train_dir = \"OCT_scan_classification/data/OCT2017/train\"\n",
    "val_dir = \"OCT_scan_classification/data/OCT2017/val\"\n",
    "test_dir = \"OCT_scan_classification/data/OCT2017/test\""
   ]
  }
 ],
 "metadata": {
  "language_info": {
   "name": "python"
  }
 },
 "nbformat": 4,
 "nbformat_minor": 5
}
